{
 "cells": [
  {
   "cell_type": "code",
   "execution_count": 1,
   "metadata": {},
   "outputs": [],
   "source": [
    "import pandas as pd\n",
    "import numpy as np\n",
    "from bs4 import BeautifulSoup\n",
    "import requests\n",
    "from fake_useragent import UserAgent\n",
    "ua = UserAgent()\n",
    "import time"
   ]
  },
  {
   "cell_type": "code",
   "execution_count": null,
   "metadata": {},
   "outputs": [],
   "source": []
  },
  {
   "cell_type": "code",
   "execution_count": 2,
   "metadata": {},
   "outputs": [],
   "source": [
    "def get_web_page(url,r=None):\n",
    "    headers = {'user-agent':ua.random,'Accept-Language': 'zh-tw'}\n",
    "    if r is None:\n",
    "        resp = requests.get(url=url,headers = headers)\n",
    "    else:\n",
    "        resp = requests.get(url=url,headers = headers, cookies={'urlJumpIp':str(r)})\n",
    "    if resp.status_code != 200:\n",
    "        print('Invalid url:', resp.url)\n",
    "        return(None)\n",
    "    else:\n",
    "        return(BeautifulSoup(resp.text,'html.parser'))"
   ]
  },
  {
   "cell_type": "code",
   "execution_count": null,
   "metadata": {},
   "outputs": [],
   "source": []
  },
  {
   "cell_type": "code",
   "execution_count": 3,
   "metadata": {},
   "outputs": [],
   "source": [
    "def detail_page(url,r):\n",
    "    soup = get_web_page(url,r)\n",
    "    obj = soup.find_all('ul',attrs={'class':'listInfo clearfix'})\n",
    "    \n",
    "    result = pd.DataFrame(columns=['head','price','floor','size','addr','suite','suite_detail','other','link'])\n",
    "    for oo in obj:\n",
    "        head = oo.h3.a.contents[0]\n",
    "        link = 'https:' + oo.h3.a['href']\n",
    "        tmp1 = oo.find_all('p')\n",
    "        info1 = tmp1[0].contents\n",
    "        info1 = [info1[i].split()[0] for i in range(len(info1)) if i%2 == 0]\n",
    "        #坪/樓層/\n",
    "        size = np.nan; floor = np.nan; suite_detail = np.nan; other = []\n",
    "        for info in info1[1:]:\n",
    "            if '坪' in info:\n",
    "                size = info\n",
    "            elif '樓層' in info:\n",
    "                floor = info[3:]\n",
    "            elif '房' in info:\n",
    "                suite_detail = info\n",
    "            else:\n",
    "                other = other + [info]\n",
    "        \n",
    "        info2 = tmp1[1].em.contents[0]\n",
    "        price = oo.find('div', attrs={'class':'price'}).i.contents[0]\n",
    "        price = int(''.join(price.split(',')))\n",
    "        result = pd.concat([result, \n",
    "                            pd.DataFrame([[head, price, floor, size, info2, info1[0], suite_detail, other, link]],\n",
    "                            columns=['head','price','floor','size','addr','suite','suite_detail','other','link'])],0)\n",
    "    return(result.reset_index(drop=True))"
   ]
  },
  {
   "cell_type": "code",
   "execution_count": null,
   "metadata": {},
   "outputs": [],
   "source": []
  },
  {
   "cell_type": "code",
   "execution_count": 6,
   "metadata": {},
   "outputs": [],
   "source": [
    "def crawler_main(url,r):\n",
    "    soup = get_web_page(url,r)\n",
    "    ttlnum = int(soup.find('a', attrs={'class':'pageNum-form'})['data-total'])\n",
    "    ttlpage = int(ttlnum/30)+1\n",
    "    \n",
    "    result = pd.DataFrame(columns=['head','price','floor','size','addr','suite','suite_detail','other','link'])\n",
    "    \n",
    "    print('Processing Pages ({} Pages In Total): '.format(ttlpage))\n",
    "    for l in range(ttlpage):\n",
    "        print('{}'.format(l), end='\\t')\n",
    "        url2 = url + '&firstRow={}'.format(l*30)\n",
    "        tmp = detail_page(url2,r)\n",
    "        result = pd.concat([result, tmp], 0)\n",
    "        time.sleep(1)\n",
    "    \n",
    "    print('\\nProcess Done!!\\n')\n",
    "    return(result.reset_index(drop=True))"
   ]
  },
  {
   "cell_type": "code",
   "execution_count": null,
   "metadata": {},
   "outputs": [],
   "source": []
  },
  {
   "cell_type": "code",
   "execution_count": null,
   "metadata": {
    "collapsed": true
   },
   "outputs": [],
   "source": []
  },
  {
   "cell_type": "markdown",
   "metadata": {},
   "source": [
    "#### Taipei Rent Data"
   ]
  },
  {
   "cell_type": "code",
   "execution_count": null,
   "metadata": {
    "collapsed": true
   },
   "outputs": [],
   "source": [
    "url = 'https://rent.591.com.tw/?kind=0&region=1'\n",
    "taipei_rent = crawler_main(url,1)\n",
    "taipei_rent.to_csv('./taipei.csv',index=False)\n",
    "#newtaipei_rent = crawler_main(url,3)\n",
    "#newtaipei_rent.to_csv('./new_taipei.csv',index=False)"
   ]
  },
  {
   "cell_type": "code",
   "execution_count": null,
   "metadata": {
    "collapsed": true
   },
   "outputs": [],
   "source": []
  },
  {
   "cell_type": "code",
   "execution_count": null,
   "metadata": {
    "collapsed": true
   },
   "outputs": [],
   "source": []
  },
  {
   "cell_type": "code",
   "execution_count": null,
   "metadata": {
    "collapsed": true
   },
   "outputs": [],
   "source": []
  }
 ],
 "metadata": {
  "kernelspec": {
   "display_name": "Python 3",
   "language": "python",
   "name": "python3"
  },
  "language_info": {
   "codemirror_mode": {
    "name": "ipython",
    "version": 3
   },
   "file_extension": ".py",
   "mimetype": "text/x-python",
   "name": "python",
   "nbconvert_exporter": "python",
   "pygments_lexer": "ipython3",
   "version": "3.7.2"
  }
 },
 "nbformat": 4,
 "nbformat_minor": 2
}
